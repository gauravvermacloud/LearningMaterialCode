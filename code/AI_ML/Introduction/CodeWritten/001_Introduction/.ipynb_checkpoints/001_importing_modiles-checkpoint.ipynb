{
 "cells": [
  {
   "cell_type": "code",
   "execution_count": 1,
   "id": "09f45a32",
   "metadata": {},
   "outputs": [],
   "source": [
    "import numpy as np\n",
    "\n",
    "normal_distributed_data = np.random.normal(1000,5,1000000)\n"
   ]
  },
  {
   "cell_type": "code",
   "execution_count": 2,
   "id": "5a8b4415",
   "metadata": {},
   "outputs": [],
   "source": [
    "#normal_distributed_data\n",
    "#Commented above line so it wont print"
   ]
  },
  {
   "cell_type": "code",
   "execution_count": 3,
   "id": "19a6ed8b",
   "metadata": {},
   "outputs": [
    {
     "data": {
      "image/png": "[encoded data removed]",
      "text/plain": [
       "<Figure size 432x288 with 1 Axes>"
      ]
     },
     "metadata": {
      "needs_background": "light"
     },
     "output_type": "display_data"
    }
   ],
   "source": [
    "#importing the matplotlib library\n",
    "import matplotlib.pyplot as plt\n",
    "#preparing a histogram\n",
    "plt.hist(normal_distributed_data,1000)\n",
    "plt.show()\n"
   ]
  },
  {
   "cell_type": "code",
   "execution_count": 4,
   "id": "9363fd91",
   "metadata": {},
   "outputs": [],
   "source": [
    "def add(x,y):\n",
    "    return x+y\n",
    "\n",
    "def sub(x,y):\n",
    "    return x-y"
   ]
  },
  {
   "cell_type": "code",
   "execution_count": 5,
   "id": "a52f640a",
   "metadata": {},
   "outputs": [],
   "source": [
    "def my_fn(f,x,y):\n",
    "    return f(x,y)"
   ]
  },
  {
   "cell_type": "code",
   "execution_count": 6,
   "id": "e1331926",
   "metadata": {},
   "outputs": [
    {
     "data": {
      "text/plain": [
       "7"
      ]
     },
     "execution_count": 6,
     "metadata": {},
     "output_type": "execute_result"
    }
   ],
   "source": [
    "add(3,4)"
   ]
  },
  {
   "cell_type": "code",
   "execution_count": 7,
   "id": "207ef55a",
   "metadata": {},
   "outputs": [
    {
     "data": {
      "text/plain": [
       "-1"
      ]
     },
     "execution_count": 7,
     "metadata": {},
     "output_type": "execute_result"
    }
   ],
   "source": [
    "sub(3, 4)"
   ]
  },
  {
   "cell_type": "code",
   "execution_count": 8,
   "id": "a588021c",
   "metadata": {},
   "outputs": [
    {
     "data": {
      "text/plain": [
       "7"
      ]
     },
     "execution_count": 8,
     "metadata": {},
     "output_type": "execute_result"
    }
   ],
   "source": [
    "my_fn(add, 3, 4)"
   ]
  },
  {
   "cell_type": "code",
   "execution_count": 9,
   "id": "f886a2cc",
   "metadata": {},
   "outputs": [
    {
     "data": {
      "text/plain": [
       "8"
      ]
     },
     "execution_count": 9,
     "metadata": {},
     "output_type": "execute_result"
    }
   ],
   "source": [
    "my_fn(lambda x,y:x**y,2,3)"
   ]
  },
  {
   "cell_type": "code",
   "execution_count": 10,
   "id": "6e4865ca",
   "metadata": {},
   "outputs": [
    {
     "name": "stdout",
     "output_type": "stream",
     "text": [
      "[4, 0, 4, 0, 2, 2, 4]\n"
     ]
    }
   ],
   "source": [
    "#Assignment Print elements that are even in a list\n",
    "\n",
    "arr = np.random.choice(5,10)\n",
    "l =list(arr)\n",
    "\n",
    "list_of_even = [x for x in l if (x%2==0)]\n",
    "print(list_of_even)"
   ]
  }
 ],
 "metadata": {
  "interpreter": {
   "hash": "31f2aee4e71d21fbe5cf8b01ff0e069b9275f58929596ceb00d14d90e3e16cd6"
  },
  "kernelspec": {
   "display_name": "Python 3 (ipykernel)",
   "language": "python",
   "name": "python3"
  },
  "language_info": {
   "codemirror_mode": {
    "name": "ipython",
    "version": 3
   },
   "file_extension": ".py",
   "mimetype": "text/x-python",
   "name": "python",
   "nbconvert_exporter": "python",
   "pygments_lexer": "ipython3",
   "version": "3.8.10"
  }
 },
 "nbformat": 4,
 "nbformat_minor": 1
}
