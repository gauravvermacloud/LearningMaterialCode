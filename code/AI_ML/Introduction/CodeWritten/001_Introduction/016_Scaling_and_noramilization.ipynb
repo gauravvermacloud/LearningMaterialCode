{
 "cells": [
  {
   "cell_type": "code",
   "execution_count": 8,
   "metadata": {},
   "outputs": [],
   "source": [
    "#Scaling is used in classification\n",
    "#normalization is used in regression\n",
    "\n",
    "x = [[100,1],[ 200,2], [300,3], [400,3], [500,2],[600,1]]\n"
   ]
  },
  {
   "cell_type": "code",
   "execution_count": 9,
   "metadata": {},
   "outputs": [
    {
     "name": "stdout",
     "output_type": "stream",
     "text": [
      "[350.   2.]\n",
      "[2.91666667e+04 6.66666667e-01]\n"
     ]
    }
   ],
   "source": [
    "from sklearn.preprocessing import StandardScaler\n",
    "scalar = StandardScaler()\n",
    "scalar.fit(x)\n",
    "print(scalar.mean_)\n",
    "print(scalar.var_)\n"
   ]
  },
  {
   "cell_type": "code",
   "execution_count": 10,
   "metadata": {},
   "outputs": [
    {
     "data": {
      "text/plain": [
       "array([[-1.46385011, -1.22474487],\n",
       "       [-0.87831007,  0.        ],\n",
       "       [-0.29277002,  1.22474487],\n",
       "       [ 0.29277002,  1.22474487],\n",
       "       [ 0.87831007,  0.        ],\n",
       "       [ 1.46385011, -1.22474487]])"
      ]
     },
     "execution_count": 10,
     "metadata": {},
     "output_type": "execute_result"
    }
   ],
   "source": [
    "x_tran = scalar.fit_transform(x)\n",
    "x_tran"
   ]
  },
  {
   "cell_type": "code",
   "execution_count": 11,
   "metadata": {},
   "outputs": [
    {
     "data": {
      "text/plain": [
       "array([[100.,   1.],\n",
       "       [200.,   2.],\n",
       "       [300.,   3.],\n",
       "       [400.,   3.],\n",
       "       [500.,   2.],\n",
       "       [600.,   1.]])"
      ]
     },
     "execution_count": 11,
     "metadata": {},
     "output_type": "execute_result"
    }
   ],
   "source": [
    "scalar.inverse_transform(x_tran)"
   ]
  },
  {
   "cell_type": "code",
   "execution_count": 12,
   "metadata": {},
   "outputs": [
    {
     "data": {
      "text/plain": [
       "[[100, 1], [200, 2], [300, 3], [400, 3], [500, 2], [600, 1]]"
      ]
     },
     "execution_count": 12,
     "metadata": {},
     "output_type": "execute_result"
    }
   ],
   "source": [
    "x"
   ]
  },
  {
   "cell_type": "code",
   "execution_count": 13,
   "metadata": {},
   "outputs": [
    {
     "data": {
      "text/plain": [
       "array([[0. , 0. ],\n",
       "       [0.2, 0.5],\n",
       "       [0.4, 1. ],\n",
       "       [0.6, 1. ],\n",
       "       [0.8, 0.5],\n",
       "       [1. , 0. ]])"
      ]
     },
     "execution_count": 13,
     "metadata": {},
     "output_type": "execute_result"
    }
   ],
   "source": [
    "from sklearn.preprocessing import MinMaxScaler\n",
    "\n",
    "scalar = MinMaxScaler()\n",
    "scalar.fit(x)\n",
    "norm_x = scalar.transform(x)\n",
    "norm_x"
   ]
  },
  {
   "cell_type": "code",
   "execution_count": 15,
   "metadata": {},
   "outputs": [
    {
     "data": {
      "text/plain": [
       "array([[100.,   1.],\n",
       "       [200.,   2.],\n",
       "       [300.,   3.],\n",
       "       [400.,   3.],\n",
       "       [500.,   2.],\n",
       "       [600.,   1.]])"
      ]
     },
     "execution_count": 15,
     "metadata": {},
     "output_type": "execute_result"
    }
   ],
   "source": [
    "scalar.inverse_transform(norm_x)"
   ]
  }
 ],
 "metadata": {
  "interpreter": {
   "hash": "31f2aee4e71d21fbe5cf8b01ff0e069b9275f58929596ceb00d14d90e3e16cd6"
  },
  "kernelspec": {
   "display_name": "Python 3.8.10 64-bit",
   "language": "python",
   "name": "python3"
  },
  "language_info": {
   "codemirror_mode": {
    "name": "ipython",
    "version": 3
   },
   "file_extension": ".py",
   "mimetype": "text/x-python",
   "name": "python",
   "nbconvert_exporter": "python",
   "pygments_lexer": "ipython3",
   "version": "3.8.10"
  },
  "orig_nbformat": 4
 },
 "nbformat": 4,
 "nbformat_minor": 2
}
