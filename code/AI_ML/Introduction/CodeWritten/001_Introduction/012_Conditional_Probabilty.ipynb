{
 "cells": [
  {
   "cell_type": "code",
   "execution_count": 15,
   "metadata": {},
   "outputs": [],
   "source": [
    "from numpy import random\n",
    "random.seed(0)\n",
    "\n",
    "#This will show all the people in age decade \n",
    "#who have or have not made a purchase\n",
    "totals ={20:0,30:0,40:0,50:0,60:0,70:0}\n",
    "\n",
    "#The people who made purchase\n",
    "purchases = {20: 0, 30: 0, 40: 0, 50: 0, 60: 0, 70: 0}\n",
    "\n",
    "total_purchases = 0\n",
    "\n",
    "#We want to generate a population o1 100000 people\n",
    "for x in range(100000):\n",
    "    #Find a random age decade\n",
    "    age_decade =random.choice([20,30,40,50,60,70])\n",
    "    #find a purchase probabilty. Ours will have older people making more purchases\n",
    "    purchases_probabilty = float(age_decade)/100.0\n",
    "    #add to the total number of people\n",
    "    totals[age_decade] += 1\n",
    "    #make a random number and if it is less than purcase probabilty make a purcase\n",
    "    if(random.random()< purchases_probabilty):\n",
    "        #increment total purcase\n",
    "        total_purchases +=1\n",
    "        # and the purcase decade\n",
    "        purchases[age_decade] +=1\n"
   ]
  },
  {
   "cell_type": "code",
   "execution_count": 16,
   "metadata": {},
   "outputs": [
    {
     "data": {
      "text/plain": [
       "{20: 16576, 30: 16619, 40: 16632, 50: 16805, 60: 16664, 70: 16704}"
      ]
     },
     "execution_count": 16,
     "metadata": {},
     "output_type": "execute_result"
    }
   ],
   "source": [
    "#The age groups are evenly distributed\n",
    "totals\n"
   ]
  },
  {
   "cell_type": "code",
   "execution_count": 17,
   "metadata": {},
   "outputs": [
    {
     "data": {
      "image/png": "[encoded data removed]",
      "text/plain": [
       "<Figure size 432x288 with 1 Axes>"
      ]
     },
     "metadata": {
      "needs_background": "light"
     },
     "output_type": "display_data"
    }
   ],
   "source": [
    "import matplotlib.pyplot as plt\n",
    "x =list( totals.keys())\n",
    "\n",
    "y = [totals[k] for k in x]\n",
    "\n",
    "#number of people by age\n",
    "plt.bar(x,y)\n",
    "plt.show() \n"
   ]
  },
  {
   "cell_type": "code",
   "execution_count": 18,
   "metadata": {},
   "outputs": [
    {
     "data": {
      "text/plain": [
       "45012"
      ]
     },
     "execution_count": 18,
     "metadata": {},
     "output_type": "execute_result"
    }
   ],
   "source": [
    "total_purchases\n"
   ]
  },
  {
   "cell_type": "code",
   "execution_count": 19,
   "metadata": {},
   "outputs": [
    {
     "data": {
      "image/png": "[encoded data removed]",
      "text/plain": [
       "<Figure size 432x288 with 1 Axes>"
      ]
     },
     "metadata": {
      "needs_background": "light"
     },
     "output_type": "display_data"
    }
   ],
   "source": [
    "import matplotlib.pyplot as plt\n",
    "purchases\n",
    "\n",
    "x = list(purchases.keys())\n",
    "\n",
    "y = [purchases[k] for k in x]\n",
    "\n",
    "#Purchases by age\n",
    "plt.bar(x, y)\n",
    "plt.show()\n"
   ]
  },
  {
   "cell_type": "code",
   "execution_count": 20,
   "metadata": {},
   "outputs": [
    {
     "data": {
      "text/plain": [
       "0.29929598652145134"
      ]
     },
     "execution_count": 20,
     "metadata": {},
     "output_type": "execute_result"
    }
   ],
   "source": [
    "#E - Event you made a purchase\n",
    "#F - Event you are 30\n",
    "#P(E|F)  Probabilty you are 30 and you made a purchase\n",
    "\n",
    "p_e_given_f = float(purchases[30])/float(totals[30])\n",
    "p_e_given_f\n"
   ]
  },
  {
   "cell_type": "code",
   "execution_count": 21,
   "metadata": {},
   "outputs": [
    {
     "data": {
      "text/plain": [
       "0.16619"
      ]
     },
     "execution_count": 21,
     "metadata": {},
     "output_type": "execute_result"
    }
   ],
   "source": [
    "p_f = float(totals[30])/100000\n",
    "p_f"
   ]
  },
  {
   "cell_type": "code",
   "execution_count": 22,
   "metadata": {},
   "outputs": [
    {
     "data": {
      "text/plain": [
       "0.45012"
      ]
     },
     "execution_count": 22,
     "metadata": {},
     "output_type": "execute_result"
    }
   ],
   "source": [
    "#probabilty you bought something regardless of age\n",
    "p_e = float(total_purchases)/100000\n",
    "p_e"
   ]
  },
  {
   "cell_type": "code",
   "execution_count": 23,
   "metadata": {},
   "outputs": [
    {
     "data": {
      "text/plain": [
       "0.07480544280000001"
      ]
     },
     "execution_count": 23,
     "metadata": {},
     "output_type": "execute_result"
    }
   ],
   "source": [
    "#Probability of purchase and being 30\n",
    "p_e_and_f = p_e*p_f\n",
    "p_e_and_f\n"
   ]
  },
  {
   "cell_type": "code",
   "execution_count": 24,
   "metadata": {},
   "outputs": [
    {
     "data": {
      "text/plain": [
       "0.4501200000000001"
      ]
     },
     "execution_count": 24,
     "metadata": {},
     "output_type": "execute_result"
    }
   ],
   "source": [
    "p_e_given_f_formula = p_e_and_f /p_f\n",
    "p_e_given_f_formula\n"
   ]
  }
 ],
 "metadata": {
  "interpreter": {
   "hash": "31f2aee4e71d21fbe5cf8b01ff0e069b9275f58929596ceb00d14d90e3e16cd6"
  },
  "kernelspec": {
   "display_name": "Python 3.8.10 64-bit",
   "language": "python",
   "name": "python3"
  },
  "language_info": {
   "codemirror_mode": {
    "name": "ipython",
    "version": 3
   },
   "file_extension": ".py",
   "mimetype": "text/x-python",
   "name": "python",
   "nbconvert_exporter": "python",
   "pygments_lexer": "ipython3",
   "version": "3.8.10"
  },
  "orig_nbformat": 4
 },
 "nbformat": 4,
 "nbformat_minor": 2
}
