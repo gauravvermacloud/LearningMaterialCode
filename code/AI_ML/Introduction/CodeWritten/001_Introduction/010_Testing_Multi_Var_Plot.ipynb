{
 "cells": [
  {
   "cell_type": "code",
   "execution_count": null,
   "metadata": {},
   "outputs": [],
   "source": [
    "import numpy as np\n",
    "import pandas as pd\n",
    "\n",
    "\n",
    "def level_of_ed_ord(x):\n",
    "    if (x == 'BS'):\n",
    "        return 1\n",
    "\n",
    "    if(x == 'MS'):\n",
    "        return 2\n",
    "\n",
    "    if(x == 'PhD'):\n",
    "        return 3\n",
    "\n",
    "    return 0\n",
    "\n",
    "\n",
    "#Read the csv into a dataframe\n",
    "df = pd.read_csv(\"PastHires.csv\")\n",
    "df.head()\n",
    "df['Employed_Ord'] = df.apply(lambda row: 0 if (\n",
    "    row['Employed?'] == 'Y') else 1, axis=1)\n",
    "\n",
    "df['Top-tierSchool_Ord'] = df.apply(lambda row: 0 if (\n",
    "    row['Top-tier school'] == 'Y') else 1, axis=1)\n",
    "\n",
    "\n",
    "df['Interned_Ord'] = df.apply(lambda row: 0 if (\n",
    "    row['Interned'] == 'Y') else 1, axis=1)\n",
    "\n",
    "df['Hired_Ord'] = df.apply(lambda row: 0 if (\n",
    "    row['Hired'] == 'Y') else 1, axis=1)\n",
    "\n",
    "df['Level_Of_Ed_Ord'] = df.apply(\n",
    "    lambda row: level_of_ed_ord(row['Level of Education']), axis=1)\n",
    "df.head(100)\n"
   ]
  },
  {
   "cell_type": "code",
   "execution_count": null,
   "metadata": {},
   "outputs": [],
   "source": [
    "\n",
    "df.describe()\n"
   ]
  },
  {
   "cell_type": "code",
   "execution_count": null,
   "metadata": {},
   "outputs": [],
   "source": [
    "import matplotlib as plt\n",
    "from pandas.plotting import scatter_matrix\n",
    "\n",
    "scatter_matrix(df)\n",
    "plt.show()\n"
   ]
  }
 ],
 "metadata": {
  "language_info": {
   "name": "python"
  },
  "orig_nbformat": 4
 },
 "nbformat": 4,
 "nbformat_minor": 2
}
