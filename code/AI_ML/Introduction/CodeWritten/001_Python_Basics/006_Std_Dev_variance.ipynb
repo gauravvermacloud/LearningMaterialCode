{
 "cells": [
  {
   "cell_type": "code",
   "execution_count": 2,
   "metadata": {},
   "outputs": [
    {
     "data": {
      "text/plain": [
       "(array([  1.,   2.,   0.,   0.,   2.,   6.,   5.,   6.,  10.,  27.,  28.,\n",
       "         38.,  65.,  90., 141., 180., 200., 267., 320., 376., 448., 530.,\n",
       "        557., 609., 639., 641., 632., 628., 604., 511., 531., 405., 329.,\n",
       "        256., 252., 183., 139., 114.,  84.,  40.,  37.,  15.,  17.,  10.,\n",
       "         16.,   3.,   1.,   2.,   0.,   3.]),\n",
       " array([ 16.96890777,  20.19661471,  23.42432164,  26.65202858,\n",
       "         29.87973551,  33.10744245,  36.33514939,  39.56285632,\n",
       "         42.79056326,  46.01827019,  49.24597713,  52.47368406,\n",
       "         55.701391  ,  58.92909793,  62.15680487,  65.38451181,\n",
       "         68.61221874,  71.83992568,  75.06763261,  78.29533955,\n",
       "         81.52304648,  84.75075342,  87.97846036,  91.20616729,\n",
       "         94.43387423,  97.66158116, 100.8892881 , 104.11699503,\n",
       "        107.34470197, 110.57240891, 113.80011584, 117.02782278,\n",
       "        120.25552971, 123.48323665, 126.71094358, 129.93865052,\n",
       "        133.16635745, 136.39406439, 139.62177133, 142.84947826,\n",
       "        146.0771852 , 149.30489213, 152.53259907, 155.760306  ,\n",
       "        158.98801294, 162.21571988, 165.44342681, 168.67113375,\n",
       "        171.89884068, 175.12654762, 178.35425455]),\n",
       " <BarContainer object of 50 artists>)"
      ]
     },
     "execution_count": 2,
     "metadata": {},
     "output_type": "execute_result"
    },
    {
     "data": {
      "image/png": "[encoded data removed]",
      "text/plain": [
       "<Figure size 432x288 with 1 Axes>"
      ]
     },
     "metadata": {
      "needs_background": "light"
     },
     "output_type": "display_data"
    }
   ],
   "source": [
    "import numpy as np\n",
    "import matplotlib.pyplot as plt\n",
    "\n",
    "spendings = np.random.normal(100.0, 20.0, 10000)\n",
    "\n",
    "plt.hist(spendings, 50)\n",
    "plt.show()"
   ]
  }
 ],
 "metadata": {
  "interpreter": {
   "hash": "31f2aee4e71d21fbe5cf8b01ff0e069b9275f58929596ceb00d14d90e3e16cd6"
  },
  "kernelspec": {
   "display_name": "Python 3.8.10 64-bit",
   "name": "python3"
  },
  "language_info": {
   "codemirror_mode": {
    "name": "ipython",
    "version": 3
   },
   "file_extension": ".py",
   "mimetype": "text/x-python",
   "name": "python",
   "nbconvert_exporter": "python",
   "pygments_lexer": "ipython3",
   "version": "3.8.10"
  },
  "orig_nbformat": 4
 },
 "nbformat": 4,
 "nbformat_minor": 2
}
