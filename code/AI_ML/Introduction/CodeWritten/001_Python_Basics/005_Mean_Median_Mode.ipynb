{
 "cells": [
  {
   "cell_type": "code",
   "execution_count": 90,
   "metadata": {},
   "outputs": [
    {
     "data": {
      "text/plain": [
       "1.6"
      ]
     },
     "execution_count": 90,
     "metadata": {},
     "output_type": "execute_result"
    }
   ],
   "source": [
    "import numpy as np\n",
    "\n",
    "l = list(np.random.choice(5, 10))\n",
    "mean  = sum(l)/len(l)\n",
    "mean"
   ]
  },
  {
   "cell_type": "code",
   "execution_count": 91,
   "metadata": {},
   "outputs": [
    {
     "data": {
      "text/plain": [
       "0.0"
      ]
     },
     "execution_count": 91,
     "metadata": {},
     "output_type": "execute_result"
    }
   ],
   "source": [
    "def median(l):\n",
    "    number_of_elements = len(l)\n",
    "    l.sort()\n",
    "    #if we have even number of elements\n",
    "    if(number_of_elements%2 == 0):\n",
    "        #then we need to take the average of the items\n",
    "        median = (l[number_of_elements % 2]+l[(number_of_elements % 2)+1])/2.0\n",
    "    else:\n",
    "        median = l[number_of_elements % 2]\n",
    "    return median\n",
    "median(l)"
   ]
  },
  {
   "cell_type": "code",
   "execution_count": 92,
   "metadata": {},
   "outputs": [
    {
     "name": "stdout",
     "output_type": "stream",
     "text": [
      "[1, 4, 0, 2, 4, 2, 4, 1, 0]\n",
      "0\n",
      "[1, 3, 4, 1, 0, 4, 3, 3, 3, 4]\n",
      "0.5\n"
     ]
    }
   ],
   "source": [
    "l1 = list(np.random.choice(5, 9))\n",
    "print(l1)\n",
    "print(median(l1))\n",
    "\n",
    "l2 = list(np.random.choice(5, 10))\n",
    "print(l2)\n",
    "print(median(l2))\n"
   ]
  },
  {
   "cell_type": "code",
   "execution_count": 93,
   "metadata": {},
   "outputs": [],
   "source": [
    "#generate some random data\n",
    "#around the value of 27K, with standard deviation of 5K and 10K samples\n",
    "incomes = np.random.normal(27000,5000,10000)\n"
   ]
  },
  {
   "cell_type": "code",
   "execution_count": 94,
   "metadata": {},
   "outputs": [
    {
     "name": "stdout",
     "output_type": "stream",
     "text": [
      "26943.274170496654\n"
     ]
    }
   ],
   "source": [
    "mean = np.mean(incomes)\n",
    "print (mean)"
   ]
  },
  {
   "cell_type": "code",
   "execution_count": 95,
   "metadata": {},
   "outputs": [
    {
     "name": "stdout",
     "output_type": "stream",
     "text": [
      "26956.37081545659\n"
     ]
    }
   ],
   "source": [
    "median = np.median(incomes)\n",
    "print(median)"
   ]
  },
  {
   "cell_type": "code",
   "execution_count": 96,
   "metadata": {},
   "outputs": [
    {
     "data": {
      "image/png": "[encoded data removed]",
      "text/plain": [
       "<Figure size 432x288 with 1 Axes>"
      ]
     },
     "metadata": {
      "needs_background": "light"
     },
     "output_type": "display_data"
    }
   ],
   "source": [
    "import matplotlib.pyplot as plt\n",
    "\n",
    "#50 means group data into 50 buckets\n",
    "plt.hist(incomes, 50)\n",
    "plt.show()\n"
   ]
  },
  {
   "cell_type": "code",
   "execution_count": 97,
   "metadata": {},
   "outputs": [],
   "source": [
    "#add an outlier\n",
    "incomes = np.append(incomes,[1000000000000])"
   ]
  },
  {
   "cell_type": "code",
   "execution_count": 98,
   "metadata": {},
   "outputs": [
    {
     "name": "stdout",
     "output_type": "stream",
     "text": [
      "100016941.5800125\n",
      "26956.46092929589\n"
     ]
    },
    {
     "data": {
      "image/png": "[encoded data removed]",
      "text/plain": [
       "<Figure size 432x288 with 1 Axes>"
      ]
     },
     "metadata": {
      "needs_background": "light"
     },
     "output_type": "display_data"
    }
   ],
   "source": [
    "mean = np.mean(incomes)\n",
    "print(mean)\n",
    "median = np.median(incomes)\n",
    "print(median)\n",
    "plt.hist(incomes, 50)\n",
    "plt.show()\n"
   ]
  }
 ],
 "metadata": {
  "interpreter": {
   "hash": "31f2aee4e71d21fbe5cf8b01ff0e069b9275f58929596ceb00d14d90e3e16cd6"
  },
  "kernelspec": {
   "display_name": "Python 3.8.10 64-bit",
   "name": "python3"
  },
  "language_info": {
   "codemirror_mode": {
    "name": "ipython",
    "version": 3
   },
   "file_extension": ".py",
   "mimetype": "text/x-python",
   "name": "python",
   "nbconvert_exporter": "python",
   "pygments_lexer": "ipython3",
   "version": "3.8.10"
  },
  "orig_nbformat": 4
 },
 "nbformat": 4,
 "nbformat_minor": 2
}
